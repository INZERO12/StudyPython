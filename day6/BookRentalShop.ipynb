{
 "cells": [
  {
   "cell_type": "markdown",
   "metadata": {},
   "source": [
    "## BookRentalSop on Jupyter Notebook"
   ]
  },
  {
   "cell_type": "code",
   "execution_count": 1,
   "metadata": {},
   "outputs": [],
   "source": [
    "import cx_Oracle as ora"
   ]
  },
  {
   "cell_type": "markdown",
   "metadata": {},
   "source": [
    "### DB연결 함수\n",
    "사용법\n",
    "> myconn()"
   ]
  },
  {
   "cell_type": "code",
   "execution_count": 2,
   "metadata": {},
   "outputs": [],
   "source": [
    "def myconn():\n",
    "    dsn = ora.makedsn('localhost', 1521, service_name='orcl')\n",
    "    conn = ora.connect(user='scott', password='tiger', dsn=dsn, encoding = 'utf-8')\n",
    "    return conn"
   ]
  },
  {
   "cell_type": "markdown",
   "metadata": {},
   "source": [
    "#### Divtvl 전체조회 함수\n",
    "사용법\n",
    "> getAllDataFromDivtvl(conn)  # conn은 연결객체"
   ]
  },
  {
   "cell_type": "code",
   "execution_count": 4,
   "metadata": {},
   "outputs": [],
   "source": [
    "def getAllDataFromDivtbl(conn):\n",
    "    cur = conn.cursor()\n",
    "    query = 'SELECT * FROM divtbl'\n",
    "    for row in cur.execute(query):\n",
    "        print(row)"
   ]
  },
  {
   "cell_type": "markdown",
   "metadata": {},
   "source": [
    "### Divtvl에 신규 장르정보 입력\n",
    "사용법 tup = (division, names)\n",
    "> setDataIntoDivtbl(conn, tup)"
   ]
  },
  {
   "cell_type": "code",
   "execution_count": 5,
   "metadata": {},
   "outputs": [],
   "source": [
    "def setDataIntoDivtbl(conn, tup):\n",
    "    cur = conn.cursor()\n",
    "    query = '''INSERT INTO divtbl (division, names) \n",
    "               VALUES (:1, :2)'''\n",
    "    cur.execute(query, tup)\n",
    "    cur.close()\n",
    "    conn.commit()   # COMMIT 필수"
   ]
  },
  {
   "cell_type": "markdown",
   "metadata": {},
   "source": [
    "#### 책 대여 프로그램 시작"
   ]
  },
  {
   "cell_type": "code",
   "execution_count": 6,
   "metadata": {},
   "outputs": [
    {
     "name": "stdout",
     "output_type": "stream",
     "text": [
      "접속\n"
     ]
    }
   ],
   "source": [
    "scott_con = myconn()\n",
    "print('접속')"
   ]
  },
  {
   "cell_type": "markdown",
   "metadata": {},
   "source": [
    "#### 책장르 정보조회"
   ]
  },
  {
   "cell_type": "code",
   "execution_count": 7,
   "metadata": {},
   "outputs": [
    {
     "name": "stdout",
     "output_type": "stream",
     "text": [
      "('B001', '공포/스릴러')\n",
      "('B002', '로맨스')\n",
      "('B003', '무협')\n",
      "('B004', '전쟁/역사')\n",
      "('B005', '추리')\n",
      "('B006', 'SF/판타지')\n",
      "('I001', '프로그래밍')\n",
      "('i003', '네트워크')\n"
     ]
    }
   ],
   "source": [
    "getAllDataFromDivtbl(scott_con)"
   ]
  },
  {
   "cell_type": "markdown",
   "metadata": {},
   "source": [
    "#### 책장르 정보 입력"
   ]
  },
  {
   "cell_type": "code",
   "execution_count": 9,
   "metadata": {},
   "outputs": [
    {
     "name": "stdout",
     "output_type": "stream",
     "text": [
      "('B001', '공포/스릴러')\n",
      "('B002', '로맨스')\n",
      "('B003', '무협')\n",
      "('B004', '전쟁/역사')\n",
      "('B005', '추리')\n",
      "('B006', 'SF/판타지')\n",
      "('I001', '프로그래밍')\n",
      "('i003', '네트워크')\n",
      "('I102', '장르몰라')\n"
     ]
    }
   ],
   "source": [
    "division = 'I102'\n",
    "names = '장르몰라'\n",
    "tup = (division, names)\n",
    "setDataIntoDivtbl(scott_con, tup)\n",
    "getAllDataFromDivtbl(scott_con)"
   ]
  },
  {
   "cell_type": "code",
   "execution_count": null,
   "metadata": {},
   "outputs": [],
   "source": []
  }
 ],
 "metadata": {
  "interpreter": {
   "hash": "bb823754a7d63f83eb8909be178896e8ebff92075aeb8d15801002433e04e51b"
  },
  "kernelspec": {
   "display_name": "Python 3.10.1 64-bit",
   "language": "python",
   "name": "python3"
  },
  "language_info": {
   "codemirror_mode": {
    "name": "ipython",
    "version": 3
   },
   "file_extension": ".py",
   "mimetype": "text/x-python",
   "name": "python",
   "nbconvert_exporter": "python",
   "pygments_lexer": "ipython3",
   "version": "3.10.1"
  },
  "orig_nbformat": 4
 },
 "nbformat": 4,
 "nbformat_minor": 2
}
