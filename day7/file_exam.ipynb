{
 "cells": [
  {
   "cell_type": "markdown",
   "metadata": {},
   "source": [
    "## 디렉토리에서 파일목록 가져오기"
   ]
  },
  {
   "cell_type": "code",
   "execution_count": 2,
   "metadata": {},
   "outputs": [
    {
     "name": "stdout",
     "output_type": "stream",
     "text": [
      ".\\220124필기.txt\n",
      ".\\eee\n",
      ".\\eee복사본1\n",
      ".\\file_exam.ipynb\n",
      ".\\numpy.ipynb\n",
      ".\\test\n"
     ]
    }
   ],
   "source": [
    "import os, glob \n",
    "filter(os.path.isdir, glob.glob(\"./*\"))\n",
    "datalList = glob.glob(\"./*\")    # 카멜표기법 datalList\n",
    "for x in datalList:     # 방법1) 객체할당 - 속도 더 빠름\n",
    "    print(x)\n",
    "\n",
    "\n",
    "# for x in range(len(datalList)):       # 방법2) 인덱스할당\n",
    "#     print(datalList[0])\n",
    "# 객체할당, 인덱스할당 결과는 같다/ 객체할당이 속도는 더 빠름"
   ]
  },
  {
   "cell_type": "code",
   "execution_count": 3,
   "metadata": {},
   "outputs": [
    {
     "name": "stdout",
     "output_type": "stream",
     "text": [
      ".\\220124필기.txt\n",
      ".\\eee\n",
      ".\\eee복사본1\n",
      ".\\file_exam.ipynb\n",
      ".\\numpy.ipynb\n",
      ".\\test\n"
     ]
    },
    {
     "data": {
      "text/plain": [
       "('.\\\\220124필기.txt', '.\\\\eee')"
      ]
     },
     "execution_count": 3,
     "metadata": {},
     "output_type": "execute_result"
    }
   ],
   "source": [
    "import os, glob \n",
    "filter(os.path.isdir, glob.glob(\"./*\"))\n",
    "datalList = glob.glob(\"./*\")    # 카멜표기법 datalList\n",
    "for x in datalList:     # 방법1) 객체할당 - 속도 더 빠름\n",
    "    print(x)\n",
    "\n",
    "x1 = datalList[0]\n",
    "x2 = datalList[1]\n",
    "x1, x2\n"
   ]
  },
  {
   "cell_type": "markdown",
   "metadata": {},
   "source": [
    "#### - 파일명에 '.' 없는 것 확인 => 폴더\n"
   ]
  },
  {
   "cell_type": "code",
   "execution_count": 4,
   "metadata": {},
   "outputs": [
    {
     "data": {
      "text/plain": [
       "['.\\\\eee', '.\\\\eee복사본1', '.\\\\test']"
      ]
     },
     "execution_count": 4,
     "metadata": {},
     "output_type": "execute_result"
    }
   ],
   "source": [
    "# 파일명에 '.' 없는 것 확인 => 폴더\n",
    "# if x.split('.')[1] =='jpg': # 참고 확장자에 대한 정보가 jpg라면 \n",
    "folderList = []\n",
    "for x in datalList:\n",
    "    if '.' not in x[2:]:        # 슬라이싱 - 앞에 .\\ 잘라줌으로써 앞의 . 제거\n",
    "        folderList.append(x)\n",
    "folderList"
   ]
  },
  {
   "cell_type": "markdown",
   "metadata": {},
   "source": [
    "#### 스플릿"
   ]
  },
  {
   "cell_type": "code",
   "execution_count": 5,
   "metadata": {},
   "outputs": [
    {
     "name": "stdout",
     "output_type": "stream",
     "text": [
      "<class 'str'>\n",
      "<class 'list'>\n",
      "['aaaa', 'v']\n",
      "2\n"
     ]
    },
    {
     "data": {
      "text/plain": [
       "['aaaa', 'v']"
      ]
     },
     "execution_count": 5,
     "metadata": {},
     "output_type": "execute_result"
    }
   ],
   "source": [
    "# 문자열 -> ' 문자열  '   /   ['  이건 리스트 ']\n",
    "# 스플릿은 스트링만 가능 -> 리스트는 안됨\n",
    "x1 = 'aaaa.v'\n",
    "x2 = ['aaaa.v']\n",
    "print(type(x1))\n",
    "print(type(x2))\n",
    "\n",
    "s1 = x1.split('.')  # 문자열 스플릿\n",
    "print(s1)\n",
    "print(len(s1))\n",
    "x2[0].split('.')"
   ]
  },
  {
   "cell_type": "code",
   "execution_count": 12,
   "metadata": {},
   "outputs": [
    {
     "data": {
      "text/plain": [
       "['.\\\\eee', '.\\\\eee복사본1', '.\\\\test']"
      ]
     },
     "execution_count": 12,
     "metadata": {},
     "output_type": "execute_result"
    }
   ],
   "source": [
    "folderList =[]\n",
    "for x in datalList:\n",
    "    if len(x.split('.'))==2:\n",
    "        folderList.append(x)\n",
    "folderList"
   ]
  },
  {
   "cell_type": "markdown",
   "metadata": {},
   "source": [
    "####  폴더와 파일중에 폴더만 가져와서 새로운 폴더이름으로 복사하겠다."
   ]
  },
  {
   "cell_type": "code",
   "execution_count": 10,
   "metadata": {},
   "outputs": [],
   "source": [
    "import shutil\n",
    "folderList=['C:\\\\Users\\\\admin\\\\Desktop\\\\pic','./eee']\n",
    "\n",
    "for folderName in folderList:\n",
    "    newName = folderName + '복사본3'\n",
    "    shutil.copytree(folderName, newName)  # 원본, 복사되는 이름(새로생김)\n"
   ]
  },
  {
   "cell_type": "code",
   "execution_count": 13,
   "metadata": {},
   "outputs": [],
   "source": [
    "### 하고자 하는 작업을 나열\n",
    "# shutil.copytree('.pic','./복사본')\n",
    "# shutil.copytree('eee','/eee복사본')\n",
    "\n",
    "### 변수로 치환\n",
    "# folderName='./pic'\n",
    "# newName='./pic' + '복사본'\n",
    "# shutil.copytree(folderName, newName)\n",
    "# folderName = './eee'\n",
    "# newName='.eee' + '복사본'\n",
    "# shutil.copytree(folderName, newName)\n",
    "\n",
    "### 변수명을 리스트로 변경\n",
    "# folderList =[]\n",
    "# for x in datalList:\n",
    "#     if len(x.split('.'))==2:\n",
    "#         folderList.append(x)\n",
    "# folderList"
   ]
  },
  {
   "cell_type": "code",
   "execution_count": 15,
   "metadata": {},
   "outputs": [],
   "source": [
    "# ## - 현재 .py 코드가 저장된 경로의 모든 파일을 불러오자\n",
    "# import os, glob\n",
    "# # filter(os.path.isdir, glob.glob(\"./*\"))\n",
    "# dataList = glob.glob(\"./*\")\n",
    "\n",
    "# # 폴더와 파일이 같이 있을때 그중 폴더만 리스트로 하고자한다면\n",
    "# # dataList의 형식이 .\\폴더명, .\\파일명.확장자로 되어 있어서 그중 맨 앞의 .\\를 제외한 자료에서\n",
    "# folderList=[]\n",
    "# for x in datalList:\n",
    "#     if '.' not in x[2:]:        # 맨앞의 '.\\'를 제외한 자료에 .이 없다면 폴더로 인식하겠다.\n",
    "#         folderList.append(x)\n",
    "# folderList\n",
    "\n",
    "# # 폴더와 파일중에 폴더만 가져와서 새로운 폴더이름으로 복사하겠다.\n",
    "# for folderName in folderList:\n",
    "#     newName = folderName + '복사본3'\n",
    "#     shutil.copytree(folderName, newName)"
   ]
  },
  {
   "cell_type": "markdown",
   "metadata": {},
   "source": []
  }
 ],
 "metadata": {
  "interpreter": {
   "hash": "bb823754a7d63f83eb8909be178896e8ebff92075aeb8d15801002433e04e51b"
  },
  "kernelspec": {
   "display_name": "Python 3.10.1 64-bit",
   "language": "python",
   "name": "python3"
  },
  "language_info": {
   "codemirror_mode": {
    "name": "ipython",
    "version": 3
   },
   "file_extension": ".py",
   "mimetype": "text/x-python",
   "name": "python",
   "nbconvert_exporter": "python",
   "pygments_lexer": "ipython3",
   "version": "3.10.1"
  },
  "orig_nbformat": 4
 },
 "nbformat": 4,
 "nbformat_minor": 2
}
