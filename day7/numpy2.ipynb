{
 "cells": [
  {
   "cell_type": "code",
   "execution_count": 4,
   "metadata": {},
   "outputs": [
    {
     "data": {
      "text/plain": [
       "array([[0., 0., 0., 0.],\n",
       "       [0., 0., 0., 0.],\n",
       "       [0., 0., 0., 0.]])"
      ]
     },
     "execution_count": 4,
     "metadata": {},
     "output_type": "execute_result"
    }
   ],
   "source": [
    "import numpy as np\n",
    "x = np.zeros((3,4))\n",
    "x"
   ]
  },
  {
   "cell_type": "code",
   "execution_count": 38,
   "metadata": {},
   "outputs": [
    {
     "name": "stdout",
     "output_type": "stream",
     "text": [
      "0.0 0.0 0.0 0.0 0.0 0.0 0.0 0.0 0.0 0.0 0.0 0.0 "
     ]
    }
   ],
   "source": [
    "import numpy as np\n",
    "x = np.zeros((3,4))\n",
    "for i in range(3):\n",
    "    for j in range(4):\n",
    "        print(x[i][j], end=' ')\n",
    "#수정필요"
   ]
  },
  {
   "cell_type": "code",
   "execution_count": 9,
   "metadata": {},
   "outputs": [
    {
     "data": {
      "text/plain": [
       "36"
      ]
     },
     "execution_count": 9,
     "metadata": {},
     "output_type": "execute_result"
    }
   ],
   "source": [
    "import numpy as np\n",
    "x =[[22,3,4],[2,2,3]]\n",
    "np.sum(x)"
   ]
  },
  {
   "cell_type": "code",
   "execution_count": 11,
   "metadata": {},
   "outputs": [
    {
     "data": {
      "text/plain": [
       "36"
      ]
     },
     "execution_count": 11,
     "metadata": {},
     "output_type": "execute_result"
    }
   ],
   "source": [
    "import numpy as np\n",
    "x =[[22,3,4],[2,2,3]]\n",
    "type(x)\n",
    "# x.sum()   # 에러발생 => AttributeError: 'list' object has no attribute 'sum'\n",
    "# 리스트는 sum을 못한다.\n",
    "np.array(x).sum()  # 이런식으로 바꿔서 사용가능"
   ]
  },
  {
   "cell_type": "code",
   "execution_count": 12,
   "metadata": {},
   "outputs": [
    {
     "data": {
      "text/plain": [
       "7"
      ]
     },
     "execution_count": 12,
     "metadata": {},
     "output_type": "execute_result"
    }
   ],
   "source": [
    "import numpy as np\n",
    "x =[[22,3,4],[2,2,3]]\n",
    "np.sum(x[1])"
   ]
  },
  {
   "cell_type": "code",
   "execution_count": 22,
   "metadata": {},
   "outputs": [
    {
     "data": {
      "text/plain": [
       "array([[66, 15, 32],\n",
       "       [ 6, 10, 24]])"
      ]
     },
     "execution_count": 22,
     "metadata": {},
     "output_type": "execute_result"
    }
   ],
   "source": [
    "# 인공신경망(인공지능)은 x값*w값의 합산이 y값과 최대한 차이가 나지않게하는 w값 찾기\n",
    "import numpy as np\n",
    "# 1번사람[x1,x2,x3],\n",
    "# 2번사람[x1,x2,x3] x1을 몸무게, x2를 나이, x3를 수명량이라고 가정\n",
    "x = np.array([[22,3,4],[2,2,3]])\n",
    "y = np.array([100, 150])    # 1번사람의 혈압이 100, 2번사람의 혈압이 150일때 \n",
    "w = np.array([3, 5, 8] )    # x1의 w값 3 / x2의 w값 5 /x3의 w값 8\n",
    "\n",
    "x*w                         # ([22*3,3*5, 4*8 ],[2*3,2*5,3*8])\n"
   ]
  },
  {
   "cell_type": "code",
   "execution_count": 53,
   "metadata": {},
   "outputs": [
    {
     "name": "stdout",
     "output_type": "stream",
     "text": [
      "[113, 40]\n",
      "<class 'list'>\n"
     ]
    },
    {
     "data": {
      "text/plain": [
       "array([  13, -110])"
      ]
     },
     "execution_count": 53,
     "metadata": {},
     "output_type": "execute_result"
    }
   ],
   "source": [
    "# 인공신경망(인공지능)은 x값*w값의 합산이 y값과 최대한 차이가 나지않게하는 w값 찾기\n",
    "import numpy as np\n",
    "# 1번사람[x1,x2,x3],\n",
    "# 2번사람[x1,x2,x3] x1을 몸무게, x2를 나이, x3를 수명량이라고 가정\n",
    "x = np.array([[22,3,4],[2,2,3]])\n",
    "y = np.array([100, 150])   # 1번사람의 혈압이 100, 2번사람의 혈압이 150일때 \n",
    "w = np.array([3, 5, 8] )   # x1의 w값 3 / x2의 w값 5 /x3의 w값 8\n",
    "\n",
    "# x*w                        #([22*3,3*5, 4*8 ],[2*3,2*5,3*8])\n",
    "y1 = x*w\n",
    "y_hat=[]\n",
    "for i in y1:\n",
    "   y_hat.append(i.sum())\n",
    "print(y_hat)\n",
    "print(type(y_hat))\n",
    "y_hat-y  # 하나의 셋이 array구조이면 array 구조로 포함이 되어서 연산되어 나온다./ y_hat은 list, y는 array\n"
   ]
  },
  {
   "cell_type": "code",
   "execution_count": 40,
   "metadata": {},
   "outputs": [],
   "source": [
    "### Na : 입력되지 않은 값 /numpy 구조에서 치명적"
   ]
  },
  {
   "cell_type": "code",
   "execution_count": 39,
   "metadata": {},
   "outputs": [],
   "source": [
    "## 책 확인(페이지)\n",
    "# 467 람다\n",
    "# 555\n",
    "# 570 ~ 583 이터레이터 + 압축기법 "
   ]
  },
  {
   "cell_type": "code",
   "execution_count": 41,
   "metadata": {},
   "outputs": [],
   "source": [
    "# 이터레이터 : for문을 통해 순회가능\n",
    "a=[1,2,3]\n",
    "for x in a:\n",
    "    pass"
   ]
  },
  {
   "cell_type": "markdown",
   "metadata": {},
   "source": [
    "### for Comprehension(컴프리핸션)"
   ]
  },
  {
   "cell_type": "code",
   "execution_count": 42,
   "metadata": {},
   "outputs": [
    {
     "data": {
      "text/plain": [
       "[0, 1, 2, 3, 4, 5, 6, 7, 8, 9]"
      ]
     },
     "execution_count": 42,
     "metadata": {},
     "output_type": "execute_result"
    }
   ],
   "source": [
    "# for 컴프리핸션 - 방법1\n",
    "number = [x for x in range(10)]\n",
    "number\n",
    "\n"
   ]
  },
  {
   "cell_type": "code",
   "execution_count": 45,
   "metadata": {},
   "outputs": [
    {
     "data": {
      "text/plain": [
       "[0, 1, 2, 3, 4, 5, 6, 7, 8, 9]"
      ]
     },
     "execution_count": 45,
     "metadata": {},
     "output_type": "execute_result"
    }
   ],
   "source": [
    "# for 컴프리핸션 - 방법2\n",
    "# 방법1, 방법2 같음\n",
    "number=[]\n",
    "for x in range(10):\n",
    "    number.append(x)\n",
    "number"
   ]
  },
  {
   "cell_type": "code",
   "execution_count": 50,
   "metadata": {},
   "outputs": [
    {
     "name": "stdout",
     "output_type": "stream",
     "text": [
      "[113, 40]\n"
     ]
    }
   ],
   "source": [
    "# 인공신경망(인공지능)은 x값*w값의 합산이 y값과 최대한 차이가 나지않게하는 w값 찾기\n",
    "# for 컴프리핸션 사용\n",
    "import numpy as np\n",
    "# 1번사람[x1,x2,x3],\n",
    "# 2번사람[x1,x2,x3] x1을 몸무게, x2를 나이, x3를 수명량이라고 가정\n",
    "x = np.array([[22,3,4],[2,2,3]])\n",
    "y = np.array([100, 150])   # 1번사람의 혈압이 100, 2번사람의 혈압이 150일때 \n",
    "w = np.array([3, 5, 8] )   # x1의 w값 3 / x2의 w값 5 /x3의 w값 8\n",
    "\n",
    "x*w                        #([22*3,3*5, 4*8 ],[2*3,2*5,3*8])\n",
    "y1 = x*w\n",
    "y_hat=[i.sum() for i in y1]\n",
    "print(y_hat)"
   ]
  },
  {
   "cell_type": "markdown",
   "metadata": {},
   "source": [
    "## 정리\n",
    "###### - glob와 os.listdir 로 폴더내의 자료를 리스트화 할 수 있다.\n",
    "###### - numpy모듈을 이용하여 배열간 연산이 가능하다.\n",
    "###### - PIL 모듈을 이용하여 이미지관련 연산을 할 수 있다.\n",
    "######     (배열로 안바꿔도 됨. 배열자료라는 것만 인지하고 PIL모듈 기능중 필요한 기능만 사용할 수 있으면 됨)\n",
    "###### - 리스트는 빈리스트 만들고 append하는 과정을 압축하여 표현할 수 있다."
   ]
  },
  {
   "cell_type": "markdown",
   "metadata": {},
   "source": [
    "### 이중 for 리스트 append"
   ]
  },
  {
   "cell_type": "markdown",
   "metadata": {},
   "source": []
  }
 ],
 "metadata": {
  "interpreter": {
   "hash": "bb823754a7d63f83eb8909be178896e8ebff92075aeb8d15801002433e04e51b"
  },
  "kernelspec": {
   "display_name": "Python 3.10.1 64-bit",
   "language": "python",
   "name": "python3"
  },
  "language_info": {
   "codemirror_mode": {
    "name": "ipython",
    "version": 3
   },
   "file_extension": ".py",
   "mimetype": "text/x-python",
   "name": "python",
   "nbconvert_exporter": "python",
   "pygments_lexer": "ipython3",
   "version": "3.10.1"
  },
  "orig_nbformat": 4
 },
 "nbformat": 4,
 "nbformat_minor": 2
}
